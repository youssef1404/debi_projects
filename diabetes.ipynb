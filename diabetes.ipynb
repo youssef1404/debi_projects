{
 "cells": [
  {
   "cell_type": "code",
   "execution_count": 24,
   "metadata": {},
   "outputs": [],
   "source": [
    "# importing libraries\n",
    "import numpy as np\n",
    "import pandas as pd\n",
    "import matplotlib.pyplot as plt\n",
    "import seaborn as sns\n",
    "%matplotlib inline\n",
    "import os\n",
    "import plotly.graph_objects as go\n",
    "import plotly.express as px\n",
    "import scipy.stats as stats\n",
    "from IPython.display import display, HTML\n",
    "from sklearn.impute import SimpleImputer\n",
    "from sklearn.preprocessing import LabelEncoder\n",
    "from sklearn.model_selection import train_test_split\n",
    "from sklearn.linear_model import LinearRegression, Ridge, Lasso, ElasticNet, SGDRegressor\n",
    "from sklearn.datasets import load_diabetes\n",
    "from sklearn.metrics import mean_squared_error, r2_score, mean_absolute_error\n",
    "\n",
    "\n",
    "# plt.style.use('ggplot')\n",
    "pd.set_option(\"display.max_columns\", None)"
   ]
  },
  {
   "cell_type": "markdown",
   "metadata": {},
   "source": [
    "## Reading the dataset"
   ]
  },
  {
   "cell_type": "code",
   "execution_count": 25,
   "metadata": {},
   "outputs": [
    {
     "name": "stdout",
     "output_type": "stream",
     "text": [
      "Shape of Sklearn Diabetes Data: (442, 11)\n"
     ]
    },
    {
     "data": {
      "text/html": [
       "<div>\n",
       "<style scoped>\n",
       "    .dataframe tbody tr th:only-of-type {\n",
       "        vertical-align: middle;\n",
       "    }\n",
       "\n",
       "    .dataframe tbody tr th {\n",
       "        vertical-align: top;\n",
       "    }\n",
       "\n",
       "    .dataframe thead th {\n",
       "        text-align: right;\n",
       "    }\n",
       "</style>\n",
       "<table border=\"1\" class=\"dataframe\">\n",
       "  <thead>\n",
       "    <tr style=\"text-align: right;\">\n",
       "      <th></th>\n",
       "      <th>age</th>\n",
       "      <th>sex</th>\n",
       "      <th>bmi</th>\n",
       "      <th>bp</th>\n",
       "      <th>s1</th>\n",
       "      <th>s2</th>\n",
       "      <th>s3</th>\n",
       "      <th>s4</th>\n",
       "      <th>s5</th>\n",
       "      <th>s6</th>\n",
       "      <th>target</th>\n",
       "    </tr>\n",
       "  </thead>\n",
       "  <tbody>\n",
       "    <tr>\n",
       "      <th>0</th>\n",
       "      <td>0.038076</td>\n",
       "      <td>0.050680</td>\n",
       "      <td>0.061696</td>\n",
       "      <td>0.021872</td>\n",
       "      <td>-0.044223</td>\n",
       "      <td>-0.034821</td>\n",
       "      <td>-0.043401</td>\n",
       "      <td>-0.002592</td>\n",
       "      <td>0.019907</td>\n",
       "      <td>-0.017646</td>\n",
       "      <td>151.0</td>\n",
       "    </tr>\n",
       "    <tr>\n",
       "      <th>1</th>\n",
       "      <td>-0.001882</td>\n",
       "      <td>-0.044642</td>\n",
       "      <td>-0.051474</td>\n",
       "      <td>-0.026328</td>\n",
       "      <td>-0.008449</td>\n",
       "      <td>-0.019163</td>\n",
       "      <td>0.074412</td>\n",
       "      <td>-0.039493</td>\n",
       "      <td>-0.068332</td>\n",
       "      <td>-0.092204</td>\n",
       "      <td>75.0</td>\n",
       "    </tr>\n",
       "    <tr>\n",
       "      <th>2</th>\n",
       "      <td>0.085299</td>\n",
       "      <td>0.050680</td>\n",
       "      <td>0.044451</td>\n",
       "      <td>-0.005670</td>\n",
       "      <td>-0.045599</td>\n",
       "      <td>-0.034194</td>\n",
       "      <td>-0.032356</td>\n",
       "      <td>-0.002592</td>\n",
       "      <td>0.002861</td>\n",
       "      <td>-0.025930</td>\n",
       "      <td>141.0</td>\n",
       "    </tr>\n",
       "    <tr>\n",
       "      <th>3</th>\n",
       "      <td>-0.089063</td>\n",
       "      <td>-0.044642</td>\n",
       "      <td>-0.011595</td>\n",
       "      <td>-0.036656</td>\n",
       "      <td>0.012191</td>\n",
       "      <td>0.024991</td>\n",
       "      <td>-0.036038</td>\n",
       "      <td>0.034309</td>\n",
       "      <td>0.022688</td>\n",
       "      <td>-0.009362</td>\n",
       "      <td>206.0</td>\n",
       "    </tr>\n",
       "    <tr>\n",
       "      <th>4</th>\n",
       "      <td>0.005383</td>\n",
       "      <td>-0.044642</td>\n",
       "      <td>-0.036385</td>\n",
       "      <td>0.021872</td>\n",
       "      <td>0.003935</td>\n",
       "      <td>0.015596</td>\n",
       "      <td>0.008142</td>\n",
       "      <td>-0.002592</td>\n",
       "      <td>-0.031988</td>\n",
       "      <td>-0.046641</td>\n",
       "      <td>135.0</td>\n",
       "    </tr>\n",
       "  </tbody>\n",
       "</table>\n",
       "</div>"
      ],
      "text/plain": [
       "        age       sex       bmi        bp        s1        s2        s3  \\\n",
       "0  0.038076  0.050680  0.061696  0.021872 -0.044223 -0.034821 -0.043401   \n",
       "1 -0.001882 -0.044642 -0.051474 -0.026328 -0.008449 -0.019163  0.074412   \n",
       "2  0.085299  0.050680  0.044451 -0.005670 -0.045599 -0.034194 -0.032356   \n",
       "3 -0.089063 -0.044642 -0.011595 -0.036656  0.012191  0.024991 -0.036038   \n",
       "4  0.005383 -0.044642 -0.036385  0.021872  0.003935  0.015596  0.008142   \n",
       "\n",
       "         s4        s5        s6  target  \n",
       "0 -0.002592  0.019907 -0.017646   151.0  \n",
       "1 -0.039493 -0.068332 -0.092204    75.0  \n",
       "2 -0.002592  0.002861 -0.025930   141.0  \n",
       "3  0.034309  0.022688 -0.009362   206.0  \n",
       "4 -0.002592 -0.031988 -0.046641   135.0  "
      ]
     },
     "execution_count": 25,
     "metadata": {},
     "output_type": "execute_result"
    }
   ],
   "source": [
    "# Load the diabetes dataset\n",
    "diabetes_sklearn = load_diabetes()\n",
    "\n",
    "# print(diabetes_sklearn.feature_names)\n",
    "\n",
    "# Convert the dataset to a DataFrame\n",
    "df = pd.DataFrame(data=diabetes_sklearn.data,\n",
    "                        columns=diabetes_sklearn.feature_names)\n",
    "\n",
    "# Add target variable to the DataFrame\n",
    "df['target'] = diabetes_sklearn.target\n",
    "\n",
    "# Print the shape of the feature matrix and target vector\n",
    "print(\"Shape of Sklearn Diabetes Data:\", df.shape)\n",
    "\n",
    "df.head()"
   ]
  },
  {
   "cell_type": "code",
   "execution_count": 26,
   "metadata": {},
   "outputs": [
    {
     "name": "stdout",
     "output_type": "stream",
     "text": [
      "<class 'pandas.core.frame.DataFrame'>\n",
      "RangeIndex: 442 entries, 0 to 441\n",
      "Data columns (total 11 columns):\n",
      " #   Column  Non-Null Count  Dtype  \n",
      "---  ------  --------------  -----  \n",
      " 0   age     442 non-null    float64\n",
      " 1   sex     442 non-null    float64\n",
      " 2   bmi     442 non-null    float64\n",
      " 3   bp      442 non-null    float64\n",
      " 4   s1      442 non-null    float64\n",
      " 5   s2      442 non-null    float64\n",
      " 6   s3      442 non-null    float64\n",
      " 7   s4      442 non-null    float64\n",
      " 8   s5      442 non-null    float64\n",
      " 9   s6      442 non-null    float64\n",
      " 10  target  442 non-null    float64\n",
      "dtypes: float64(11)\n",
      "memory usage: 38.1 KB\n"
     ]
    }
   ],
   "source": [
    "df.info()"
   ]
  },
  {
   "cell_type": "markdown",
   "metadata": {},
   "source": [
    "## Splitting the data"
   ]
  },
  {
   "cell_type": "code",
   "execution_count": 27,
   "metadata": {},
   "outputs": [
    {
     "data": {
      "text/plain": [
       "((397, 10), (45, 10), (397,), (45,))"
      ]
     },
     "execution_count": 27,
     "metadata": {},
     "output_type": "execute_result"
    }
   ],
   "source": [
    "x = df.drop('target', axis=1)\n",
    "y = df['target']\n",
    "\n",
    "x_train, x_test, y_train, y_test = train_test_split(x, y, test_size=0.1, random_state=42)\n",
    "x_train.shape, x_test.shape, y_train.shape, y_test.shape"
   ]
  },
  {
   "cell_type": "markdown",
   "metadata": {},
   "source": [
    "* `Linear Regression`"
   ]
  },
  {
   "cell_type": "code",
   "execution_count": 28,
   "metadata": {},
   "outputs": [
    {
     "name": "stdout",
     "output_type": "stream",
     "text": [
      "MSE for training using Linear Regression = 2880.326010197211\n",
      "MSE for testing using Linear Regression = 2880.326010197211\n",
      "\n",
      "MAE for training using Linear Regression = 43.43108308005957\n",
      "MAE for testing using Linear Regression = 43.43108308005957\n",
      "\n",
      "R2 score for training using Linear Regression = 0.5125146776875646\n",
      "R2 score for testing using Linear Regression = 0.5514200923362628\n"
     ]
    }
   ],
   "source": [
    "# Linear Regression using OLS\n",
    "lin_reg = LinearRegression()\n",
    "lin_reg.fit(x_train, y_train)\n",
    "\n",
    "# Predict\n",
    "y_pred_train = lin_reg.predict(x_train)\n",
    "y_pred_test = lin_reg.predict(x_test)\n",
    "\n",
    "# Evaluate\n",
    "mse_train_lin = mean_squared_error(y_train, y_pred_train)\n",
    "mse_test_lin = mean_squared_error(y_test, y_pred_test)\n",
    "\n",
    "mae_train_lin = mean_absolute_error(y_train, y_pred_train)\n",
    "mae_test_lin = mean_absolute_error(y_test, y_pred_test)\n",
    "\n",
    "r2_train = r2_score(y_train, y_pred_train)\n",
    "r2_test = r2_score(y_test, y_pred_test)\n",
    "\n",
    "print(f\"MSE for training using Linear Regression = {mse_train_lin}\")\n",
    "print(f\"MSE for testing using Linear Regression = {mse_train_lin}\")\n",
    "print()\n",
    "print(f\"MAE for training using Linear Regression = {mae_train_lin}\")\n",
    "print(f\"MAE for testing using Linear Regression = {mae_train_lin}\")\n",
    "print()\n",
    "print(f\"R2 score for training using Linear Regression = {r2_train}\")\n",
    "print(f\"R2 score for testing using Linear Regression = {r2_test}\")"
   ]
  },
  {
   "cell_type": "markdown",
   "metadata": {},
   "source": [
    "* `Ridge`"
   ]
  },
  {
   "cell_type": "markdown",
   "metadata": {},
   "source": [
    "https://machinelearningcompass.com/machine_learning_models/ridge_regression/"
   ]
  },
  {
   "cell_type": "code",
   "execution_count": 29,
   "metadata": {},
   "outputs": [
    {
     "name": "stdout",
     "output_type": "stream",
     "text": [
      "MSE for training using Ridge Regression = 2880.635774261038\n",
      "MSE for testing using Ridge Regression = 2880.635774261038\n",
      "\n",
      "MAE for training using Ridge Regression = 43.433522118000106\n",
      "MAE for testing using Ridge Regression = 43.433522118000106\n",
      "\n",
      "R2 score for training using Ridge Regression = 0.5124622511796066\n",
      "R2 score for testing using Ridge Regression = 0.5518156209839271\n"
     ]
    }
   ],
   "source": [
    "ridge_reg = Ridge(alpha=0.001)\n",
    "ridge_reg.fit(x_train, y_train)\n",
    "\n",
    "# Predict\n",
    "y_pred_train = ridge_reg.predict(x_train)\n",
    "y_pred_test = ridge_reg.predict(x_test)\n",
    "\n",
    "# Evaluate\n",
    "mse_train_lin = mean_squared_error(y_train, y_pred_train)\n",
    "mse_test_lin = mean_squared_error(y_test, y_pred_test)\n",
    "\n",
    "mae_train_lin = mean_absolute_error(y_train, y_pred_train)\n",
    "mae_test_lin = mean_absolute_error(y_test, y_pred_test)\n",
    "\n",
    "r2_train = r2_score(y_train, y_pred_train)\n",
    "r2_test = r2_score(y_test, y_pred_test)\n",
    "\n",
    "print(f\"MSE for training using Ridge Regression = {mse_train_lin}\")\n",
    "print(f\"MSE for testing using Ridge Regression = {mse_train_lin}\")\n",
    "print()\n",
    "print(f\"MAE for training using Ridge Regression = {mae_train_lin}\")\n",
    "print(f\"MAE for testing using Ridge Regression = {mae_train_lin}\")\n",
    "print()\n",
    "print(f\"R2 score for training using Ridge Regression = {r2_train}\")\n",
    "print(f\"R2 score for testing using Ridge Regression = {r2_test}\")"
   ]
  },
  {
   "cell_type": "markdown",
   "metadata": {},
   "source": [
    "* `Lasso`"
   ]
  },
  {
   "cell_type": "code",
   "execution_count": 30,
   "metadata": {},
   "outputs": [
    {
     "name": "stdout",
     "output_type": "stream",
     "text": [
      "MSE for training using Lasso Regression = 2880.5237641213976\n",
      "MSE for testing using Lasso Regression = 2880.5237641213976\n",
      "\n",
      "MAE for training using Lasso Regression = 43.43154921037066\n",
      "MAE for testing using Lasso Regression = 43.43154921037066\n",
      "\n",
      "R2 score for training using Lasso Regression = 0.5124812085125027\n",
      "R2 score for testing using Lasso Regression = 0.5520338320113964\n"
     ]
    }
   ],
   "source": [
    "lasso_reg = Lasso(alpha=0.001, max_iter=10000, tol=0.001)\n",
    "lasso_reg.fit(x_train, y_train)\n",
    "\n",
    "# Predict\n",
    "y_pred_train = lasso_reg.predict(x_train)\n",
    "y_pred_test = lasso_reg.predict(x_test)\n",
    "\n",
    "# Evaluate\n",
    "mse_train_lin = mean_squared_error(y_train, y_pred_train)\n",
    "mse_test_lin = mean_squared_error(y_test, y_pred_test)\n",
    "\n",
    "mae_train_lin = mean_absolute_error(y_train, y_pred_train)\n",
    "mae_test_lin = mean_absolute_error(y_test, y_pred_test)\n",
    "\n",
    "r2_train = r2_score(y_train, y_pred_train)\n",
    "r2_test = r2_score(y_test, y_pred_test)\n",
    "\n",
    "print(f\"MSE for training using Lasso Regression = {mse_train_lin}\")\n",
    "print(f\"MSE for testing using Lasso Regression = {mse_train_lin}\")\n",
    "print()\n",
    "print(f\"MAE for training using Lasso Regression = {mae_train_lin}\")\n",
    "print(f\"MAE for testing using Lasso Regression = {mae_train_lin}\")\n",
    "print()\n",
    "print(f\"R2 score for training using Lasso Regression = {r2_train}\")\n",
    "print(f\"R2 score for testing using Lasso Regression = {r2_test}\")"
   ]
  },
  {
   "cell_type": "markdown",
   "metadata": {},
   "source": [
    "* `ElasticNet`"
   ]
  },
  {
   "attachments": {
    "image.png": {
     "image/png": "[encoded data removed]"
    }
   },
   "cell_type": "markdown",
   "metadata": {},
   "source": [
    "![image.png](attachment:image.png)"
   ]
  },
  {
   "cell_type": "code",
   "execution_count": 31,
   "metadata": {},
   "outputs": [
    {
     "name": "stdout",
     "output_type": "stream",
     "text": [
      "MSE for training using ElasticNet Regression = 2934.6542480523076\n",
      "MSE for testing using ElasticNet Regression = 2934.6542480523076\n",
      "\n",
      "MAE for training using ElasticNet Regression = 44.17624176328767\n",
      "MAE for testing using ElasticNet Regression = 44.17624176328767\n",
      "\n",
      "R2 score for training using ElasticNet Regression = 0.5033198093123541\n",
      "R2 score for testing using ElasticNet Regression = 0.5457381113801587\n"
     ]
    }
   ],
   "source": [
    "elastic_reg = ElasticNet(alpha=0.001, l1_ratio=0.6)\n",
    "elastic_reg.fit(x_train, y_train)\n",
    "\n",
    "# Predict\n",
    "y_pred_train = elastic_reg.predict(x_train)\n",
    "y_pred_test = elastic_reg.predict(x_test)\n",
    "\n",
    "# Evaluate\n",
    "mse_train_lin = mean_squared_error(y_train, y_pred_train)\n",
    "mse_test_lin = mean_squared_error(y_test, y_pred_test)\n",
    "\n",
    "mae_train_lin = mean_absolute_error(y_train, y_pred_train)\n",
    "mae_test_lin = mean_absolute_error(y_test, y_pred_test)\n",
    "\n",
    "r2_train = r2_score(y_train, y_pred_train)\n",
    "r2_test = r2_score(y_test, y_pred_test)\n",
    "\n",
    "print(f\"MSE for training using ElasticNet Regression = {mse_train_lin}\")\n",
    "print(f\"MSE for testing using ElasticNet Regression = {mse_train_lin}\")\n",
    "print()\n",
    "print(f\"MAE for training using ElasticNet Regression = {mae_train_lin}\")\n",
    "print(f\"MAE for testing using ElasticNet Regression = {mae_train_lin}\")\n",
    "print()\n",
    "print(f\"R2 score for training using ElasticNet Regression = {r2_train}\")\n",
    "print(f\"R2 score for testing using ElasticNet Regression = {r2_test}\")"
   ]
  },
  {
   "cell_type": "markdown",
   "metadata": {},
   "source": [
    "* `SGD`"
   ]
  },
  {
   "cell_type": "code",
   "execution_count": 35,
   "metadata": {},
   "outputs": [
    {
     "name": "stdout",
     "output_type": "stream",
     "text": [
      "MSE for Training using SGDRegressor is: 5752.148\n",
      "MSE for Testing using SGDRegressor is: 5951.294\n",
      "\n",
      "MAE for training using SGDRegressor = 44.17624176328767\n",
      "MAE for testing using SGDRegressor = 42.170603489604666\n",
      "\n",
      "R2 score for training using SGDRegressor = 0.5033198093123541\n",
      "R2 score for testing using SGDRegressor = 0.5457381113801587\n"
     ]
    }
   ],
   "source": [
    "sgd_reg = SGDRegressor(penalty=\"l2\", alpha=0.001, eta0=0.001,\n",
    "                    learning_rate=\"constant\", early_stopping=True, validation_fraction=0.1,\n",
    "                    n_iter_no_change=5, random_state=42)\n",
    "\n",
    "sgd_reg.fit(x_train, y_train)\n",
    "\n",
    "# Predict\n",
    "y_pred_train_sgd = sgd_reg.predict(x_train)\n",
    "y_pred_test_sgd = sgd_reg.predict(x_test)\n",
    "\n",
    "# Evaluate\n",
    "mse_train_sgd = mean_squared_error(y_train, y_pred_train_sgd)\n",
    "mse_test_sgd = mean_squared_error(y_test, y_pred_test_sgd)\n",
    "\n",
    "mae_train_sgd = mean_absolute_error(y_train, y_pred_train)\n",
    "mae_test_sgd = mean_absolute_error(y_test, y_pred_test)\n",
    "\n",
    "r2_train = r2_score(y_train, y_pred_train)\n",
    "r2_test = r2_score(y_test, y_pred_test)\n",
    "\n",
    "print(f'MSE for Training using SGDRegressor is: {mse_train_sgd:.3f}')\n",
    "print(f'MSE for Testing using SGDRegressor is: {mse_test_sgd:.3f}')\n",
    "print()\n",
    "print(f\"MAE for training using SGDRegressor = {mae_train_sgd}\")\n",
    "print(f\"MAE for testing using SGDRegressor = {mae_test_sgd}\")\n",
    "print()\n",
    "print(f\"R2 score for training using SGDRegressor = {r2_train}\")\n",
    "print(f\"R2 score for testing using SGDRegressor = {r2_test}\")\n"
   ]
  },
  {
   "cell_type": "code",
   "execution_count": null,
   "metadata": {},
   "outputs": [],
   "source": []
  }
 ],
 "metadata": {
  "kernelspec": {
   "display_name": "base",
   "language": "python",
   "name": "python3"
  },
  "language_info": {
   "codemirror_mode": {
    "name": "ipython",
    "version": 3
   },
   "file_extension": ".py",
   "mimetype": "text/x-python",
   "name": "python",
   "nbconvert_exporter": "python",
   "pygments_lexer": "ipython3",
   "version": "3.11.4"
  }
 },
 "nbformat": 4,
 "nbformat_minor": 2
}
